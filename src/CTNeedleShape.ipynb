{
 "cells": [
  {
   "cell_type": "code",
   "execution_count": 1,
   "id": "f9db20e8-a055-4227-8707-71eb4a7569e8",
   "metadata": {},
   "outputs": [],
   "source": [
    "from dataclasses import (\n",
    "    dataclass,\n",
    "    field,\n",
    ")\n",
    "import os\n",
    "\n",
    "from typing import (\n",
    "    Dict,\n",
    "    List,\n",
    "    Tuple,\n",
    ")\n",
    "\n",
    "import numpy as np\n",
    "import numpy.typing as npt\n",
    "import matplotlib.pyplot as plt\n",
    "\n",
    "import dicom"
   ]
  },
  {
   "cell_type": "code",
   "execution_count": 2,
   "id": "84cc12cb-60af-434c-9453-b0555bb76871",
   "metadata": {},
   "outputs": [],
   "source": [
    "from needle_reconstruction_ct import (\n",
    "    ROI3D,\n",
    "    CTNeedleReconstruction,\n",
    ")"
   ]
  },
  {
   "cell_type": "code",
   "execution_count": 6,
   "id": "967f4e1d-d56b-4884-9e94-bc4d03b0e20c",
   "metadata": {},
   "outputs": [],
   "source": [
    "ct_nr = CTNeedleReconstruction()"
   ]
  },
  {
   "cell_type": "code",
   "execution_count": 5,
   "id": "8cff4062-495e-4aa8-b105-bb63e9d3e092",
   "metadata": {},
   "outputs": [],
   "source": [
    "data_dir = os.path.join(\n",
    "    os.getenv(\"HOME\"),\n",
    "    \"data\",\n",
    "    \"7CH-4AA-0001-MCF-even\",\n",
    "    \"2023-06-15_2023-06-16_Beef-Insertion-Experiment\",\n",
    "    \"ct_images\",\n",
    "    \"mcf-beef-insertion-CT\",\n",
    "    \"results\",\n",
    "    \"2023-06-15\",\n",
    "    \"2023-06-15_10-13-03\"\n",
    ")\n",
    "\n",
    "roi_bbs = ROI3D(\n",
    "    top_left=[0, 0, 50],\n",
    "    bottom_right=[200, -1, -1],\n",
    ")\n",
    "\n",
    "roi_needle = ROI3D(\n",
    "    top_left=[200, 0, 0],\n",
    "    bottom_right=[-1, 300, -1],\n",
    ")\n",
    "\n",
    "bor = []"
   ]
  },
  {
   "cell_type": "code",
   "execution_count": 8,
   "id": "2939592e-d6d0-404c-ac5d-b0678d95c304",
   "metadata": {},
   "outputs": [
    {
     "data": {
      "text/plain": [
       "1000000.0"
      ]
     },
     "execution_count": 8,
     "metadata": {},
     "output_type": "execute_result"
    }
   ],
   "source": [
    "setattr(ct_nr, \"threshold\", 1e6)\n",
    "ct_nr.threshold"
   ]
  },
  {
   "cell_type": "code",
   "execution_count": null,
   "id": "3d81cf46-19f6-443b-b1bd-850fb8d44962",
   "metadata": {},
   "outputs": [],
   "source": []
  }
 ],
 "metadata": {
  "kernelspec": {
   "display_name": "Python 3 (ipykernel)",
   "language": "python",
   "name": "python3"
  },
  "language_info": {
   "codemirror_mode": {
    "name": "ipython",
    "version": 3
   },
   "file_extension": ".py",
   "mimetype": "text/x-python",
   "name": "python",
   "nbconvert_exporter": "python",
   "pygments_lexer": "ipython3",
   "version": "3.10.6"
  }
 },
 "nbformat": 4,
 "nbformat_minor": 5
}
